{
 "cells": [
  {
   "attachments": {},
   "cell_type": "markdown",
   "metadata": {},
   "source": [
    "源文件形式：e1,r,e2\n",
    "\n",
    "目标文件：\n",
    "\n",
    "    1. entity2id.txt\n",
    "    2. relation2id.txt\n",
    "\n",
    "    格式：$ID_{e1}, ID_{e2}, ID_{rel}$\n",
    "    1. train2id.txt\n",
    "    2. test2id.txt\n",
    "    3. valid2id.txt\n",
    "\n",
    "    1. type_constrain.txt (运行/home/ZOE_BERT/V1-2_InputAdd/OpenKE-PyTorch/benchmarks/FB15K/n-n.py这个文件可得，先修改第6行的dir)"
   ]
  },
  {
   "cell_type": "code",
   "execution_count": 5,
   "metadata": {},
   "outputs": [],
   "source": [
    "src_tuples = \"/home/ZOE_BERT/V1-0_InputAdd/13_35_43知识三元组.txt\"\n",
    "\n",
    "with open(src_tuples, 'r', encoding='utf-8') as f:\n",
    "    tuples = f.readlines()[:1000]\n",
    "\n",
    "entitys = set()\n",
    "relations = set()\n",
    "for tuple in tuples:\n",
    "    tuple_list = tuple.strip().split(',')\n",
    "    if tuple_list[0]!='':\n",
    "        entitys.add(tuple_list[0])\n",
    "    if tuple_list[1]!='' and tuple_list[1] in ['抽象','同义','简称']:\n",
    "        relations.add(tuple_list[1])\n",
    "    if tuple_list[2]!='':\n",
    "        entitys.add(tuple_list[2])\n",
    "    \n",
    "entity2id = dict(zip(list(entitys), [str(idx) for idx in range(len(entitys))]))\n",
    "relation2id = dict(zip(list(relations), [str(idx) for idx in range(len(relations))]))\n",
    "\n",
    "with open(\"/home/ZOE_BERT/V1-2_InputAdd/13_35_43/entity2id.txt\", 'w', encoding='utf-8') as f:\n",
    "    f.write(str(len(entitys)))\n",
    "    f.write('\\n')\n",
    "    for key,Value in entity2id.items():\n",
    "        f.write(key+'\\t'+Value+'\\n')\n",
    "        \n",
    "with open(\"/home/ZOE_BERT/V1-2_InputAdd/13_35_43/relation2id.txt\", 'w', encoding='utf-8') as f:\n",
    "    f.write(str(len(relations)))\n",
    "    f.write('\\n')\n",
    "    for key,Value in relation2id.items():\n",
    "        f.write(key+'\\t'+Value+'\\n')\n",
    "        \n",
    "dir = \"/home/ZOE_BERT/V1-2_InputAdd/13_35_43/\"\n",
    "train2id = dir + \"train2id.txt\"\n",
    "test2id = dir + \"test2id.txt\"\n",
    "valid2id = dir + \"valid2id.txt\"\n",
    "\n",
    "\n",
    "train_src_tuples = tuples[:int(0.8*len(tuples))]\n",
    "test_src_tuples = tuples[int(0.8*len(tuples)):int(0.9*len(tuples))]\n",
    "valid_src_tuples = tuples[int(0.9*len(tuples)):]\n",
    "\n",
    "for src_tuples,save_path in zip([train_src_tuples, test_src_tuples, valid_src_tuples],[train2id, test2id, valid2id]):   \n",
    "    new_tuple_list = []\n",
    "    for tuple in src_tuples:\n",
    "        tuple_list = tuple.strip().split(\",\")\n",
    "        if tuple_list[0]!='' and tuple_list[1]!='' and tuple_list[2]!='' and tuple_list[1] in ['抽象','同义','简称']:\n",
    "            new_tuple_str = \"\\t\".join([entity2id[tuple_list[0]], entity2id[tuple_list[2]],relation2id[tuple_list[1]]])+'\\n'\n",
    "            new_tuple_list.append(new_tuple_str)\n",
    "    with open(save_path, 'w', encoding='utf-8') as f:\n",
    "        f.write(str(len(new_tuple_list)))\n",
    "        f.write('\\n')\n",
    "        f.writelines(new_tuple_list)"
   ]
  },
  {
   "cell_type": "markdown",
   "metadata": {},
   "source": [
    "train:test:valid = 8:1:1"
   ]
  },
  {
   "cell_type": "code",
   "execution_count": null,
   "metadata": {},
   "outputs": [],
   "source": []
  }
 ],
 "metadata": {
  "kernelspec": {
   "display_name": "Python 3",
   "language": "python",
   "name": "python3"
  },
  "language_info": {
   "codemirror_mode": {
    "name": "ipython",
    "version": 3
   },
   "file_extension": ".py",
   "mimetype": "text/x-python",
   "name": "python",
   "nbconvert_exporter": "python",
   "pygments_lexer": "ipython3",
   "version": "3.7.12"
  },
  "orig_nbformat": 4
 },
 "nbformat": 4,
 "nbformat_minor": 2
}
